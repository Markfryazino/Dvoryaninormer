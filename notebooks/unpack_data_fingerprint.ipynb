{
 "cells": [
  {
   "cell_type": "code",
   "execution_count": 21,
   "metadata": {},
   "outputs": [],
   "source": [
    "from collections import Counter\n",
    "\n",
    "with open(\"../data/Fingerprint/Fingerprint_graph_labels.txt\") as f:\n",
    "    labels = list(map(int, f.readlines()))\n",
    "\n",
    "with open(\"../data/Fingerprint/Fingerprint_graph_indicator.txt\") as f:\n",
    "    indicators = list(map(lambda x: int(x) - 1, f.readlines()))\n",
    "\n",
    "with open(\"../data/Fingerprint/Fingerprint_A.txt\") as f:\n",
    "    edges = list(map(lambda x: (int(x.split(\",\")[0]) - 1, int(x.split(\",\")[1]) - 1), f.readlines()))\n",
    "\n",
    "with open(\"../data/Fingerprint/Fingerprint_node_attributes.txt\") as f:\n",
    "    node_attrs = list(map(lambda x: (float(x.split(\",\")[0]), float(x.split(\",\")[1])), f.readlines()))\n",
    "\n",
    "with open(\"../data/Fingerprint/Fingerprint_edge_attributes.txt\") as f:\n",
    "    edge_attrs = list(map(lambda x: (float(x.split(\",\")[0]), float(x.split(\",\")[1])), f.readlines()))"
   ]
  },
  {
   "cell_type": "code",
   "execution_count": 65,
   "metadata": {},
   "outputs": [],
   "source": [
    "import networkx as nx\n",
    "import numpy as np\n",
    "\n",
    "def plot_graph(G, **kwargs):\n",
    "    options = {\n",
    "        \"node_size\": 50,\n",
    "        \"node_color\": \"white\",\n",
    "        \"edgecolors\": \"black\",\n",
    "        \"linewidths\": 1,\n",
    "        \"width\": 2,\n",
    "    }\n",
    "    options.update(kwargs)\n",
    "    \n",
    "    pos = {node: np.array([G.nodes[node]['x'], G.nodes[node]['y']]) for node in G.nodes}\n",
    "    nx.draw(G, pos, **options, nodelist=G.nodes)"
   ]
  },
  {
   "cell_type": "code",
   "execution_count": 23,
   "metadata": {},
   "outputs": [],
   "source": [
    "graphs = [nx.Graph() for i in range(len(labels))]\n",
    "\n",
    "for i, ((x, y), g) in enumerate(zip(node_attrs, indicators)):\n",
    "    graphs[g].add_node(i, x=x, y=y)\n",
    "\n",
    "for i, ((orient, angle), (n1, n2)) in enumerate(zip(edge_attrs, edges)):\n",
    "    g1, g2 = indicators[n1], indicators[n2]\n",
    "    assert g1 == g2\n",
    "\n",
    "    graphs[g1].add_edge(n1, n2, orient=orient, angle=angle)"
   ]
  },
  {
   "cell_type": "code",
   "execution_count": 52,
   "metadata": {},
   "outputs": [
    {
     "data": {
      "text/plain": [
       "NodeView(())"
      ]
     },
     "execution_count": 52,
     "metadata": {},
     "output_type": "execute_result"
    }
   ],
   "source": [
    "graphs[3].nodes"
   ]
  },
  {
   "cell_type": "code",
   "execution_count": 66,
   "metadata": {},
   "outputs": [
    {
     "data": {
      "image/png": "[encoded data removed]",
      "text/plain": [
       "<Figure size 432x288 with 1 Axes>"
      ]
     },
     "metadata": {},
     "output_type": "display_data"
    }
   ],
   "source": [
    "plot_graph(graphs[920])"
   ]
  }
 ],
 "metadata": {
  "kernelspec": {
   "display_name": "Python 3.8.10 64-bit",
   "language": "python",
   "name": "python3"
  },
  "language_info": {
   "codemirror_mode": {
    "name": "ipython",
    "version": 3
   },
   "file_extension": ".py",
   "mimetype": "text/x-python",
   "name": "python",
   "nbconvert_exporter": "python",
   "pygments_lexer": "ipython3",
   "version": "3.8.10"
  },
  "orig_nbformat": 4,
  "vscode": {
   "interpreter": {
    "hash": "31f2aee4e71d21fbe5cf8b01ff0e069b9275f58929596ceb00d14d90e3e16cd6"
   }
  }
 },
 "nbformat": 4,
 "nbformat_minor": 2
}
