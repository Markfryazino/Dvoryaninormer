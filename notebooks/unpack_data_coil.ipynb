{
 "cells": [
  {
   "cell_type": "code",
   "execution_count": 1,
   "metadata": {},
   "outputs": [],
   "source": [
    "import numpy as np\n",
    "from collections import Counter\n",
    "\n",
    "with open(\"../data/COIL-RAG/COIL-RAG_graph_labels.txt\") as f:\n",
    "    labels = list(map(lambda x: int(x) - 1, f.readlines()))\n",
    "\n",
    "with open(\"../data/COIL-RAG/COIL-RAG_graph_indicator.txt\") as f:\n",
    "    indicators = list(map(lambda x: int(x) - 1, f.readlines()))\n",
    "\n",
    "with open(\"../data/COIL-RAG/COIL-RAG_A.txt\") as f:\n",
    "    edges = list(map(lambda x: (int(x.split(\",\")[0]) - 1, int(x.split(\",\")[1]) - 1), f.readlines()))\n",
    "\n",
    "with open(\"../data/COIL-RAG/COIL-RAG_node_attributes.txt\") as f:\n",
    "    node_attrs = list(map(lambda x: np.array(list(map(float, x.split(\", \")))), f.readlines()))\n",
    "\n",
    "with open(\"../data/COIL-RAG/COIL-RAG_edge_attributes.txt\") as f:\n",
    "    edge_attrs = list(map(float, f.readlines()))"
   ]
  },
  {
   "cell_type": "code",
   "execution_count": 2,
   "metadata": {},
   "outputs": [],
   "source": [
    "import networkx as nx\n",
    "import numpy as np\n",
    "\n",
    "def plot_graph(G, **kwargs):\n",
    "    options = {\n",
    "        \"node_size\": 50,\n",
    "        \"node_color\": \"white\",\n",
    "        \"edgecolors\": \"black\",\n",
    "        \"linewidths\": 1,\n",
    "        \"width\": 2,\n",
    "    }\n",
    "    options.update(kwargs)\n",
    "    \n",
    "    pos = nx.spring_layout(G)\n",
    "    nx.draw(G, pos, **options, nodelist=G.nodes)"
   ]
  },
  {
   "cell_type": "code",
   "execution_count": 3,
   "metadata": {},
   "outputs": [],
   "source": [
    "graphs = [nx.Graph() for i in range(len(labels))]\n",
    "\n",
    "for i, (feat, g) in enumerate(zip(node_attrs, indicators)):\n",
    "    graphs[g].add_node(i, hist=feat)\n",
    "\n",
    "for i, (length, (n1, n2)) in enumerate(zip(edge_attrs, edges)):\n",
    "    g1, g2 = indicators[n1], indicators[n2]\n",
    "    assert g1 == g2\n",
    "\n",
    "    graphs[g1].add_edge(n1, n2, length=length)"
   ]
  },
  {
   "cell_type": "code",
   "execution_count": 12,
   "metadata": {},
   "outputs": [
    {
     "data": {
      "image/png": "[encoded data removed]",
      "text/plain": [
       "<Figure size 432x288 with 1 Axes>"
      ]
     },
     "metadata": {},
     "output_type": "display_data"
    }
   ],
   "source": [
    "plot_graph(graphs[11])"
   ]
  },
  {
   "cell_type": "code",
   "execution_count": 5,
   "metadata": {},
   "outputs": [],
   "source": [
    "from sklearn.model_selection import train_test_split\n",
    "\n",
    "g_train, g_test, y_train, y_test = train_test_split(graphs, labels, test_size=500, random_state=42, stratify=labels)"
   ]
  },
  {
   "cell_type": "code",
   "execution_count": 9,
   "metadata": {},
   "outputs": [
    {
     "data": {
      "text/plain": [
       "{'length': 520.0}"
      ]
     },
     "execution_count": 9,
     "metadata": {},
     "output_type": "execute_result"
    }
   ],
   "source": [
    "graphs[10].get_edge_data(28, 29)"
   ]
  },
  {
   "cell_type": "code",
   "execution_count": 11,
   "metadata": {},
   "outputs": [
    {
     "data": {
      "text/plain": [
       "NodeView((30, 31, 32, 33))"
      ]
     },
     "execution_count": 11,
     "metadata": {},
     "output_type": "execute_result"
    }
   ],
   "source": [
    "graphs[11].nodes"
   ]
  },
  {
   "cell_type": "code",
   "execution_count": 19,
   "metadata": {},
   "outputs": [],
   "source": [
    "import torch\n",
    "\n",
    "feats = torch.vstack([torch.tensor(graphs[11].nodes[i][\"hist\"]) for i in graphs[11].nodes])"
   ]
  },
  {
   "cell_type": "code",
   "execution_count": 20,
   "metadata": {},
   "outputs": [
    {
     "data": {
      "text/plain": [
       "torch.Size([4, 64])"
      ]
     },
     "execution_count": 20,
     "metadata": {},
     "output_type": "execute_result"
    }
   ],
   "source": [
    "feats.size()"
   ]
  }
 ],
 "metadata": {
  "kernelspec": {
   "display_name": "Python 3.8.10 64-bit",
   "language": "python",
   "name": "python3"
  },
  "language_info": {
   "codemirror_mode": {
    "name": "ipython",
    "version": 3
   },
   "file_extension": ".py",
   "mimetype": "text/x-python",
   "name": "python",
   "nbconvert_exporter": "python",
   "pygments_lexer": "ipython3",
   "version": "3.8.10"
  },
  "orig_nbformat": 4,
  "vscode": {
   "interpreter": {
    "hash": "31f2aee4e71d21fbe5cf8b01ff0e069b9275f58929596ceb00d14d90e3e16cd6"
   }
  }
 },
 "nbformat": 4,
 "nbformat_minor": 2
}
