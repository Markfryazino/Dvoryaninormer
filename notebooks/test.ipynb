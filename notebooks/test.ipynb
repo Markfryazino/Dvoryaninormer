{
 "cells": [
  {
   "cell_type": "code",
   "execution_count": 100,
   "metadata": {},
   "outputs": [],
   "source": [
    "import sys\n",
    "\n",
    "sys.path.append(\"../\")\n",
    "\n",
    "from importlib import reload\n",
    "\n",
    "import src.data as src_data\n",
    "import src.model as src_model\n",
    "import src.training as src_training\n",
    "\n",
    "src_data = reload(src_data)\n",
    "src_model = reload(src_model)\n",
    "src_training = reload(src_training)"
   ]
  },
  {
   "cell_type": "code",
   "execution_count": 21,
   "metadata": {},
   "outputs": [],
   "source": [
    "from src.data import load_coil_graphs\n",
    "import torch\n",
    "\n",
    "\n",
    "coil_graphs = load_coil_graphs(root=\"../data/\")\n",
    "dataset = src_data.CoilDataset(coil_graphs)\n",
    "dataloader = torch.utils.data.DataLoader(dataset, batch_size=4, shuffle=True, collate_fn=src_data.collate_graphs)"
   ]
  },
  {
   "cell_type": "code",
   "execution_count": 96,
   "metadata": {},
   "outputs": [],
   "source": [
    "src_data = reload(src_data)\n",
    "src_model = reload(src_model)\n",
    "\n",
    "model = src_model.Dvoryaninormer(node_dim=64, edge_dim=1, num_classes=100, embedding_dim=64, n_encoders=3)"
   ]
  },
  {
   "cell_type": "code",
   "execution_count": 99,
   "metadata": {},
   "outputs": [],
   "source": [
    "from src.data import load_coil_graphs\n",
    "from sklearn.model_selection import train_test_split\n",
    "\n",
    "coil_graphs, labels = load_coil_graphs(root=\"../data/\")\n",
    "\n",
    "g_train, g_test, y_train, y_test = train_test_split(coil_graphs, labels, test_size=500, random_state=42, stratify=labels)"
   ]
  },
  {
   "cell_type": "code",
   "execution_count": 103,
   "metadata": {},
   "outputs": [
    {
     "ename": "KeyError",
     "evalue": "'wandb'",
     "output_type": "error",
     "traceback": [
      "\u001b[0;31m---------------------------------------------------------------------------\u001b[0m",
      "\u001b[0;31mKeyError\u001b[0m                                  Traceback (most recent call last)",
      "\u001b[0;32m<ipython-input-103-83e50bafacb0>\u001b[0m in \u001b[0;36m<module>\u001b[0;34m\u001b[0m\n\u001b[1;32m     15\u001b[0m }\n\u001b[1;32m     16\u001b[0m \u001b[0;34m\u001b[0m\u001b[0m\n\u001b[0;32m---> 17\u001b[0;31m \u001b[0mdvoryanin\u001b[0m \u001b[0;34m=\u001b[0m \u001b[0msrc_training\u001b[0m\u001b[0;34m.\u001b[0m\u001b[0mtrain_dvoryanin\u001b[0m\u001b[0;34m(\u001b[0m\u001b[0mg_train\u001b[0m\u001b[0;34m,\u001b[0m \u001b[0my_train\u001b[0m\u001b[0;34m,\u001b[0m \u001b[0mg_test\u001b[0m\u001b[0;34m,\u001b[0m \u001b[0my_test\u001b[0m\u001b[0;34m,\u001b[0m \u001b[0mparams\u001b[0m\u001b[0;34m)\u001b[0m\u001b[0;34m\u001b[0m\u001b[0;34m\u001b[0m\u001b[0m\n\u001b[0m",
      "\u001b[0;32m~/programs/projects/graphormer/notebooks/../src/training.py\u001b[0m in \u001b[0;36mtrain_dvoryanin\u001b[0;34m(D_train, y_train, D_test, y_test, params)\u001b[0m\n\u001b[1;32m     87\u001b[0m \u001b[0;34m\u001b[0m\u001b[0m\n\u001b[1;32m     88\u001b[0m     wandb.init(\n\u001b[0;32m---> 89\u001b[0;31m         \u001b[0;34m**\u001b[0m\u001b[0mparams\u001b[0m\u001b[0;34m[\u001b[0m\u001b[0;34m\"wandb\"\u001b[0m\u001b[0;34m]\u001b[0m\u001b[0;34m,\u001b[0m\u001b[0;34m\u001b[0m\u001b[0;34m\u001b[0m\u001b[0m\n\u001b[0m\u001b[1;32m     90\u001b[0m         \u001b[0mconfig\u001b[0m\u001b[0;34m=\u001b[0m\u001b[0mconfig\u001b[0m\u001b[0;34m,\u001b[0m\u001b[0;34m\u001b[0m\u001b[0;34m\u001b[0m\u001b[0m\n\u001b[1;32m     91\u001b[0m     )\n",
      "\u001b[0;31mKeyError\u001b[0m: 'wandb'"
     ]
    }
   ],
   "source": [
    "params = {\n",
    "    \"eval_steps\": 100,\n",
    "    \"log_steps\": 20,\n",
    "    \"epochs\": 500,\n",
    "    \"batch_size\": 64,\n",
    "    \"max_grad_norm\": 3.,\n",
    "    \"model\": {\n",
    "        \"node_dim\": 64,\n",
    "        \"edge_dim\": 1,\n",
    "        \"num_classes\": 100,\n",
    "        \"embedding_dim\": 64,\n",
    "        \"n_encoders\": 3,\n",
    "    },\n",
    "    \"device\": \"cpu\",\n",
    "    \"wandb\": {\n",
    "        \"entity\": \"broccoliman\",\n",
    "        \"project\": \"Dvoryanin\"\n",
    "    }\n",
    "}\n",
    "\n",
    "dvoryanin = src_training.train_dvoryanin(g_train, y_train, g_test, y_test, params)"
   ]
  }
 ],
 "metadata": {
  "kernelspec": {
   "display_name": "Python 3.8.10 64-bit",
   "language": "python",
   "name": "python3"
  },
  "language_info": {
   "codemirror_mode": {
    "name": "ipython",
    "version": 3
   },
   "file_extension": ".py",
   "mimetype": "text/x-python",
   "name": "python",
   "nbconvert_exporter": "python",
   "pygments_lexer": "ipython3",
   "version": "3.8.10"
  },
  "orig_nbformat": 4,
  "vscode": {
   "interpreter": {
    "hash": "31f2aee4e71d21fbe5cf8b01ff0e069b9275f58929596ceb00d14d90e3e16cd6"
   }
  }
 },
 "nbformat": 4,
 "nbformat_minor": 2
}
